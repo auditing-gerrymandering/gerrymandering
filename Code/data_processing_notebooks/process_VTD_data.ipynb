{
 "cells": [
  {
   "cell_type": "code",
   "execution_count": 2,
   "metadata": {},
   "outputs": [],
   "source": [
    "import geopandas as gpd\n",
    "import pandas as pd\n",
    "import matplotlib.pyplot as plt"
   ]
  },
  {
   "cell_type": "code",
   "execution_count": 3,
   "metadata": {},
   "outputs": [],
   "source": [
    "DRIVE_PATH = \"/Users/jerrylin/Google Drive/My Drive/CS+/Data/\"\n",
    "def full_path(filename):\n",
    "    return DRIVE_PATH + filename"
   ]
  },
  {
   "cell_type": "markdown",
   "metadata": {},
   "source": [
    "# Merge Nested VTDs"
   ]
  },
  {
   "cell_type": "markdown",
   "metadata": {},
   "source": [
    "There are 2692 VTDs (note that this is different from precincts, of which there are 2704). However, apparently two of these are nested, so they have been combined into 2690 VTDs. (See the Herschlag et al. GitLab README, it expands on this)"
   ]
  },
  {
   "cell_type": "code",
   "execution_count": 4,
   "metadata": {},
   "outputs": [],
   "source": [
    "### Census + election data from MGGG Github\n",
    "# Link: https://github.com/mggg-states/NC-shapefiles\n",
    "### GEOID10 from Census files and VTD column from this match up\n",
    "df = gpd.read_file(\"/Users/jerrylin/Google Drive/My Drive/CS+/Data/raw_mggg_NC_VTD\")"
   ]
  },
  {
   "cell_type": "code",
   "execution_count": 5,
   "metadata": {},
   "outputs": [],
   "source": [
    "#Read in the official Census shapefile, which is CRITICAL for getting the right VTD identifiers\n",
    "#This ordered index corresponds to the VTD numbering used in the districting ensemble txts. \n",
    "#I.e., first VTD in this shapefile is VTD 1 in the districting ensemble.\n",
    "shp = gpd.read_file(\"/Users/jerrylin/Google Drive/My Drive/CS+/Data/tl_2012_37_vtd10\")"
   ]
  },
  {
   "cell_type": "code",
   "execution_count": 6,
   "metadata": {},
   "outputs": [],
   "source": [
    "df.rename(columns={\"VTD\":\"GEOID10\"}, inplace=True)"
   ]
  },
  {
   "cell_type": "markdown",
   "metadata": {},
   "source": [
    "## Change the Geometry to Be Correct"
   ]
  },
  {
   "cell_type": "code",
   "execution_count": 7,
   "metadata": {},
   "outputs": [],
   "source": [
    "#Drop bad geometry from df\n",
    "df.drop(columns=['geometry'], inplace=True)"
   ]
  },
  {
   "cell_type": "code",
   "execution_count": 8,
   "metadata": {
    "scrolled": true
   },
   "outputs": [],
   "source": [
    "#Maintains the order of that valuable index, but extracts only two columns\n",
    "geoid = shp.loc[:, [\"GEOID10\", 'geometry']]"
   ]
  },
  {
   "cell_type": "code",
   "execution_count": 9,
   "metadata": {},
   "outputs": [],
   "source": [
    "#Merges the order of that valuable index with the full demographic data\n",
    "df2 = geoid.merge(df, on=\"GEOID10\")\n",
    "#Increase the index by 1 to match the districting ensemble — now index 1 matches with VTD number 1 in the ensembles\n",
    "df2.index += 1"
   ]
  },
  {
   "cell_type": "markdown",
   "metadata": {},
   "source": [
    "## Unnest"
   ]
  },
  {
   "cell_type": "code",
   "execution_count": 11,
   "metadata": {},
   "outputs": [
    {
     "name": "stderr",
     "output_type": "stream",
     "text": [
      "/Users/jerrylin/opt/anaconda3/envs/districting/lib/python3.7/site-packages/pandas/core/groupby/generic.py:303: FutureWarning: Dropping invalid columns in SeriesGroupBy.agg is deprecated. In a future version, a TypeError will be raised. Before calling .agg, select only columns which should be valid for the aggregating function.\n",
      "  results[key] = self.aggregate(func)\n"
     ]
    }
   ],
   "source": [
    "#Create merged objects for the nested VTDs\n",
    "to_insert = df2.loc[[402, 316]].groupby('County').agg(lambda x: x.sum()).reset_index().iloc[0]\n",
    "to_insert[\"geometry\"] = df2.loc[[402, 316]].unary_union\n",
    "to_insert2 = df2.loc[[1677, 1658]].groupby('County').agg(lambda x: x.sum()).reset_index().iloc[0]\n",
    "to_insert2[\"geometry\"] = df2.loc[[1677, 1658]].unary_union"
   ]
  },
  {
   "cell_type": "code",
   "execution_count": 12,
   "metadata": {},
   "outputs": [],
   "source": [
    "#Drop and replace the nested districts with merged entries\n",
    "df2.drop(316, inplace=True)\n",
    "df2.drop(1658, inplace=True)\n",
    "df2.loc[402] = to_insert\n",
    "df2.loc[1677] = to_insert2"
   ]
  },
  {
   "cell_type": "code",
   "execution_count": 13,
   "metadata": {},
   "outputs": [
    {
     "data": {
      "text/html": [
       "<div>\n",
       "<style scoped>\n",
       "    .dataframe tbody tr th:only-of-type {\n",
       "        vertical-align: middle;\n",
       "    }\n",
       "\n",
       "    .dataframe tbody tr th {\n",
       "        vertical-align: top;\n",
       "    }\n",
       "\n",
       "    .dataframe thead th {\n",
       "        text-align: right;\n",
       "    }\n",
       "</style>\n",
       "<table border=\"1\" class=\"dataframe\">\n",
       "  <thead>\n",
       "    <tr style=\"text-align: right;\">\n",
       "      <th></th>\n",
       "      <th>VTD_num</th>\n",
       "      <th>GEOID10</th>\n",
       "      <th>geometry</th>\n",
       "      <th>ALAND10</th>\n",
       "      <th>AWATER10</th>\n",
       "      <th>County</th>\n",
       "      <th>VTD_Key</th>\n",
       "      <th>VTD_Name</th>\n",
       "      <th>PL10AA_TOT</th>\n",
       "      <th>PL10VA_TOT</th>\n",
       "      <th>...</th>\n",
       "      <th>WVAP</th>\n",
       "      <th>BVAP</th>\n",
       "      <th>AMINVAP</th>\n",
       "      <th>ASIANVAP</th>\n",
       "      <th>NHPIVAP</th>\n",
       "      <th>OTHERVAP</th>\n",
       "      <th>2MOREVAP</th>\n",
       "      <th>HDIST</th>\n",
       "      <th>SEND</th>\n",
       "      <th>CD</th>\n",
       "    </tr>\n",
       "  </thead>\n",
       "  <tbody>\n",
       "    <tr>\n",
       "      <th>0</th>\n",
       "      <td>1</td>\n",
       "      <td>37149WO06</td>\n",
       "      <td>POLYGON ((-82.27895 35.30135, -82.27878 35.301...</td>\n",
       "      <td>112372241.0</td>\n",
       "      <td>565150.0</td>\n",
       "      <td>37149</td>\n",
       "      <td>37149WO06</td>\n",
       "      <td>WO06</td>\n",
       "      <td>2504</td>\n",
       "      <td>1964</td>\n",
       "      <td>...</td>\n",
       "      <td>1733</td>\n",
       "      <td>77</td>\n",
       "      <td>4</td>\n",
       "      <td>6</td>\n",
       "      <td>0</td>\n",
       "      <td>0</td>\n",
       "      <td>16</td>\n",
       "      <td>113</td>\n",
       "      <td>47</td>\n",
       "      <td>11</td>\n",
       "    </tr>\n",
       "    <tr>\n",
       "      <th>1</th>\n",
       "      <td>2</td>\n",
       "      <td>37149SA04</td>\n",
       "      <td>POLYGON ((-82.35609 35.24454, -82.35517 35.244...</td>\n",
       "      <td>85577055.0</td>\n",
       "      <td>7670.0</td>\n",
       "      <td>37149</td>\n",
       "      <td>37149SA04</td>\n",
       "      <td>SA04</td>\n",
       "      <td>1972</td>\n",
       "      <td>1616</td>\n",
       "      <td>...</td>\n",
       "      <td>1561</td>\n",
       "      <td>19</td>\n",
       "      <td>2</td>\n",
       "      <td>3</td>\n",
       "      <td>0</td>\n",
       "      <td>2</td>\n",
       "      <td>7</td>\n",
       "      <td>113</td>\n",
       "      <td>47</td>\n",
       "      <td>11</td>\n",
       "    </tr>\n",
       "    <tr>\n",
       "      <th>2</th>\n",
       "      <td>3</td>\n",
       "      <td>37149TR123</td>\n",
       "      <td>POLYGON ((-82.31243 35.22149, -82.31239 35.221...</td>\n",
       "      <td>45106392.0</td>\n",
       "      <td>20740.0</td>\n",
       "      <td>37149</td>\n",
       "      <td>37149TR123</td>\n",
       "      <td>TR123</td>\n",
       "      <td>3747</td>\n",
       "      <td>3217</td>\n",
       "      <td>...</td>\n",
       "      <td>2841</td>\n",
       "      <td>258</td>\n",
       "      <td>1</td>\n",
       "      <td>9</td>\n",
       "      <td>0</td>\n",
       "      <td>2</td>\n",
       "      <td>15</td>\n",
       "      <td>113</td>\n",
       "      <td>47</td>\n",
       "      <td>11</td>\n",
       "    </tr>\n",
       "    <tr>\n",
       "      <th>3</th>\n",
       "      <td>4</td>\n",
       "      <td>37149CL07</td>\n",
       "      <td>POLYGON ((-82.24123 35.26694, -82.23969 35.267...</td>\n",
       "      <td>60133780.0</td>\n",
       "      <td>33643.0</td>\n",
       "      <td>37149</td>\n",
       "      <td>37149CL07</td>\n",
       "      <td>CL07</td>\n",
       "      <td>3294</td>\n",
       "      <td>2562</td>\n",
       "      <td>...</td>\n",
       "      <td>2373</td>\n",
       "      <td>26</td>\n",
       "      <td>2</td>\n",
       "      <td>6</td>\n",
       "      <td>0</td>\n",
       "      <td>2</td>\n",
       "      <td>23</td>\n",
       "      <td>113</td>\n",
       "      <td>47</td>\n",
       "      <td>11</td>\n",
       "    </tr>\n",
       "    <tr>\n",
       "      <th>4</th>\n",
       "      <td>5</td>\n",
       "      <td>37149GC09</td>\n",
       "      <td>POLYGON ((-82.13863 35.19342, -82.13834 35.193...</td>\n",
       "      <td>133671985.0</td>\n",
       "      <td>47824.0</td>\n",
       "      <td>37149</td>\n",
       "      <td>37149GC09</td>\n",
       "      <td>GC09</td>\n",
       "      <td>3607</td>\n",
       "      <td>2814</td>\n",
       "      <td>...</td>\n",
       "      <td>2407</td>\n",
       "      <td>250</td>\n",
       "      <td>9</td>\n",
       "      <td>9</td>\n",
       "      <td>0</td>\n",
       "      <td>0</td>\n",
       "      <td>18</td>\n",
       "      <td>113</td>\n",
       "      <td>47</td>\n",
       "      <td>11</td>\n",
       "    </tr>\n",
       "    <tr>\n",
       "      <th>...</th>\n",
       "      <td>...</td>\n",
       "      <td>...</td>\n",
       "      <td>...</td>\n",
       "      <td>...</td>\n",
       "      <td>...</td>\n",
       "      <td>...</td>\n",
       "      <td>...</td>\n",
       "      <td>...</td>\n",
       "      <td>...</td>\n",
       "      <td>...</td>\n",
       "      <td>...</td>\n",
       "      <td>...</td>\n",
       "      <td>...</td>\n",
       "      <td>...</td>\n",
       "      <td>...</td>\n",
       "      <td>...</td>\n",
       "      <td>...</td>\n",
       "      <td>...</td>\n",
       "      <td>...</td>\n",
       "      <td>...</td>\n",
       "      <td>...</td>\n",
       "    </tr>\n",
       "    <tr>\n",
       "      <th>2685</th>\n",
       "      <td>2688</td>\n",
       "      <td>37051G5</td>\n",
       "      <td>POLYGON ((-79.08169 35.03270, -79.08069 35.032...</td>\n",
       "      <td>30284464.0</td>\n",
       "      <td>329736.0</td>\n",
       "      <td>37051</td>\n",
       "      <td>37051G5</td>\n",
       "      <td>G5</td>\n",
       "      <td>20447</td>\n",
       "      <td>14830</td>\n",
       "      <td>...</td>\n",
       "      <td>4920</td>\n",
       "      <td>7675</td>\n",
       "      <td>130</td>\n",
       "      <td>410</td>\n",
       "      <td>60</td>\n",
       "      <td>22</td>\n",
       "      <td>381</td>\n",
       "      <td>44</td>\n",
       "      <td>21</td>\n",
       "      <td>8</td>\n",
       "    </tr>\n",
       "    <tr>\n",
       "      <th>2686</th>\n",
       "      <td>2689</td>\n",
       "      <td>37173ALARKA</td>\n",
       "      <td>POLYGON ((-83.48201 35.37736, -83.48195 35.377...</td>\n",
       "      <td>68373817.0</td>\n",
       "      <td>0.0</td>\n",
       "      <td>37173</td>\n",
       "      <td>37173ALARKA</td>\n",
       "      <td>ALARKA</td>\n",
       "      <td>962</td>\n",
       "      <td>760</td>\n",
       "      <td>...</td>\n",
       "      <td>726</td>\n",
       "      <td>0</td>\n",
       "      <td>14</td>\n",
       "      <td>0</td>\n",
       "      <td>2</td>\n",
       "      <td>0</td>\n",
       "      <td>16</td>\n",
       "      <td>119</td>\n",
       "      <td>50</td>\n",
       "      <td>11</td>\n",
       "    </tr>\n",
       "    <tr>\n",
       "      <th>2687</th>\n",
       "      <td>2690</td>\n",
       "      <td>37173BC2</td>\n",
       "      <td>POLYGON ((-83.52304 35.45413, -83.52303 35.454...</td>\n",
       "      <td>173532693.0</td>\n",
       "      <td>1180244.0</td>\n",
       "      <td>37173</td>\n",
       "      <td>37173BC2</td>\n",
       "      <td>BC2</td>\n",
       "      <td>3109</td>\n",
       "      <td>2433</td>\n",
       "      <td>...</td>\n",
       "      <td>2194</td>\n",
       "      <td>17</td>\n",
       "      <td>112</td>\n",
       "      <td>22</td>\n",
       "      <td>0</td>\n",
       "      <td>0</td>\n",
       "      <td>32</td>\n",
       "      <td>119</td>\n",
       "      <td>50</td>\n",
       "      <td>11</td>\n",
       "    </tr>\n",
       "    <tr>\n",
       "      <th>2688</th>\n",
       "      <td>2691</td>\n",
       "      <td>37173BC1</td>\n",
       "      <td>POLYGON ((-83.57351 35.42605, -83.57350 35.426...</td>\n",
       "      <td>167197388.0</td>\n",
       "      <td>6042784.0</td>\n",
       "      <td>37173</td>\n",
       "      <td>37173BC1</td>\n",
       "      <td>BC1</td>\n",
       "      <td>2918</td>\n",
       "      <td>2389</td>\n",
       "      <td>...</td>\n",
       "      <td>2169</td>\n",
       "      <td>5</td>\n",
       "      <td>116</td>\n",
       "      <td>8</td>\n",
       "      <td>0</td>\n",
       "      <td>0</td>\n",
       "      <td>40</td>\n",
       "      <td>119</td>\n",
       "      <td>50</td>\n",
       "      <td>11</td>\n",
       "    </tr>\n",
       "    <tr>\n",
       "      <th>2689</th>\n",
       "      <td>2692</td>\n",
       "      <td>37173WHCH</td>\n",
       "      <td>POLYGON ((-83.43599 35.60740, -83.43594 35.607...</td>\n",
       "      <td>410447612.0</td>\n",
       "      <td>271992.0</td>\n",
       "      <td>37173</td>\n",
       "      <td>37173WHCH</td>\n",
       "      <td>WHCH</td>\n",
       "      <td>5468</td>\n",
       "      <td>3926</td>\n",
       "      <td>...</td>\n",
       "      <td>1271</td>\n",
       "      <td>43</td>\n",
       "      <td>2203</td>\n",
       "      <td>11</td>\n",
       "      <td>1</td>\n",
       "      <td>1</td>\n",
       "      <td>226</td>\n",
       "      <td>119</td>\n",
       "      <td>50</td>\n",
       "      <td>11</td>\n",
       "    </tr>\n",
       "  </tbody>\n",
       "</table>\n",
       "<p>2690 rows × 89 columns</p>\n",
       "</div>"
      ],
      "text/plain": [
       "      VTD_num      GEOID10                                           geometry  \\\n",
       "0           1    37149WO06  POLYGON ((-82.27895 35.30135, -82.27878 35.301...   \n",
       "1           2    37149SA04  POLYGON ((-82.35609 35.24454, -82.35517 35.244...   \n",
       "2           3   37149TR123  POLYGON ((-82.31243 35.22149, -82.31239 35.221...   \n",
       "3           4    37149CL07  POLYGON ((-82.24123 35.26694, -82.23969 35.267...   \n",
       "4           5    37149GC09  POLYGON ((-82.13863 35.19342, -82.13834 35.193...   \n",
       "...       ...          ...                                                ...   \n",
       "2685     2688      37051G5  POLYGON ((-79.08169 35.03270, -79.08069 35.032...   \n",
       "2686     2689  37173ALARKA  POLYGON ((-83.48201 35.37736, -83.48195 35.377...   \n",
       "2687     2690     37173BC2  POLYGON ((-83.52304 35.45413, -83.52303 35.454...   \n",
       "2688     2691     37173BC1  POLYGON ((-83.57351 35.42605, -83.57350 35.426...   \n",
       "2689     2692    37173WHCH  POLYGON ((-83.43599 35.60740, -83.43594 35.607...   \n",
       "\n",
       "          ALAND10   AWATER10 County      VTD_Key VTD_Name  PL10AA_TOT  \\\n",
       "0     112372241.0   565150.0  37149    37149WO06     WO06        2504   \n",
       "1      85577055.0     7670.0  37149    37149SA04     SA04        1972   \n",
       "2      45106392.0    20740.0  37149   37149TR123    TR123        3747   \n",
       "3      60133780.0    33643.0  37149    37149CL07     CL07        3294   \n",
       "4     133671985.0    47824.0  37149    37149GC09     GC09        3607   \n",
       "...           ...        ...    ...          ...      ...         ...   \n",
       "2685   30284464.0   329736.0  37051      37051G5       G5       20447   \n",
       "2686   68373817.0        0.0  37173  37173ALARKA   ALARKA         962   \n",
       "2687  173532693.0  1180244.0  37173     37173BC2      BC2        3109   \n",
       "2688  167197388.0  6042784.0  37173     37173BC1      BC1        2918   \n",
       "2689  410447612.0   271992.0  37173    37173WHCH     WHCH        5468   \n",
       "\n",
       "      PL10VA_TOT  ...  WVAP  BVAP  AMINVAP  ASIANVAP  NHPIVAP  OTHERVAP  \\\n",
       "0           1964  ...  1733    77        4         6        0         0   \n",
       "1           1616  ...  1561    19        2         3        0         2   \n",
       "2           3217  ...  2841   258        1         9        0         2   \n",
       "3           2562  ...  2373    26        2         6        0         2   \n",
       "4           2814  ...  2407   250        9         9        0         0   \n",
       "...          ...  ...   ...   ...      ...       ...      ...       ...   \n",
       "2685       14830  ...  4920  7675      130       410       60        22   \n",
       "2686         760  ...   726     0       14         0        2         0   \n",
       "2687        2433  ...  2194    17      112        22        0         0   \n",
       "2688        2389  ...  2169     5      116         8        0         0   \n",
       "2689        3926  ...  1271    43     2203        11        1         1   \n",
       "\n",
       "      2MOREVAP  HDIST  SEND  CD  \n",
       "0           16    113    47  11  \n",
       "1            7    113    47  11  \n",
       "2           15    113    47  11  \n",
       "3           23    113    47  11  \n",
       "4           18    113    47  11  \n",
       "...        ...    ...   ...  ..  \n",
       "2685       381     44    21   8  \n",
       "2686        16    119    50  11  \n",
       "2687        32    119    50  11  \n",
       "2688        40    119    50  11  \n",
       "2689       226    119    50  11  \n",
       "\n",
       "[2690 rows x 89 columns]"
      ]
     },
     "execution_count": 13,
     "metadata": {},
     "output_type": "execute_result"
    }
   ],
   "source": [
    "df2.reset_index(inplace=True)\n",
    "df2.rename(columns={'index':'VTD_num'}, inplace=True)\n",
    "df2"
   ]
  },
  {
   "cell_type": "markdown",
   "metadata": {},
   "source": [
    "### Rename Columns & Add Neighbors"
   ]
  },
  {
   "cell_type": "code",
   "execution_count": 15,
   "metadata": {},
   "outputs": [
    {
     "data": {
      "text/plain": [
       "'df2.rename(columns={\"County\":\"COUNTY_FIPS\", \\'VTD_Key\\':\\'loc_prec\\', \\'PL10AA_TOT\\':\\'total_pop\\',\\n                      \\'PL10VA_TOT\\':\\'total_18+\\', \\n                      \\'HVAP\\':\\'hispanic\\', \\'WVAP\\':\\'white\\', \\'BVAP\\':\\'african_am\\', \\'AMINVAP\\':\\'am_indian_\\',\\n                      \\'ASIANVAP\\':\\'asian\\', \\'NHPIVAP\\':\\'hawaii/pac\\', \\'OTHERVAP\\':\\'other_race\\', \\n                       \\'2MOREVAP\\':\\'2+races\\'}, inplace=True)'"
      ]
     },
     "execution_count": 15,
     "metadata": {},
     "output_type": "execute_result"
    }
   ],
   "source": [
    "df2.rename(columns={'VTD_Key': 'loc_prec'}, inplace=True)\n",
    "# df2.rename(columns={\"County\":\"COUNTY_FIPS\", 'VTD_Key':'loc_prec', 'PL10AA_TOT':'total_pop',\n",
    "#                       'PL10VA_TOT':'total_18+', \n",
    "#                       'HVAP':'hispanic', 'WVAP':'white', 'BVAP':'african_am', 'AMINVAP':'am_indian_',\n",
    "#                       'ASIANVAP':'asian', 'NHPIVAP':'hawaii/pac', 'OTHERVAP':'other_race', \n",
    "#                        '2MOREVAP':'2+races'}, inplace=True)\n",
    "#Removed the below:\n",
    "#EL16G_PR_D':'total_dem', 'EL16G_PR_R':'total_rep','EL16G_PR_L':'total_lib', \n",
    "#'EL16G_PR_W':'writein', 'EL16G_PR_T':'total_vote'\n"
   ]
  },
  {
   "cell_type": "code",
   "execution_count": 16,
   "metadata": {},
   "outputs": [],
   "source": [
    "#Takes about 1 minute\n",
    "for index, row in df2.iterrows():  \n",
    "    neighbors = df2[df2.geometry.touches(row['geometry'])].loc_prec.tolist() \n",
    "    df2.at[index, \"my_neighbors\"] = \", \".join(neighbors)"
   ]
  },
  {
   "cell_type": "markdown",
   "metadata": {},
   "source": [
    "### Read in Mattingly's Congressional Election Data"
   ]
  },
  {
   "cell_type": "code",
   "execution_count": 15,
   "metadata": {},
   "outputs": [],
   "source": [
    "hor12 = pd.read_csv(full_path(\"code_data_NC_NCAbs_USHOUSEOFREPRESENTATIVES_12.txt\"), sep='\\t', header=None)\n",
    "hor16 = pd.read_csv(full_path(\"code_data_NC_NCAbs_USHOUSEOFREPRESENTATIVES_16.txt\"), sep='\\t', header=None)\n",
    "hor12.rename(columns={0:\"VTD_num\", 1:\"dummy\", 2:'hor12_dem', 3:'hor12_rep', 4:'hor12_other'}, inplace=True)\n",
    "hor16.rename(columns={0:\"VTD_num\", 1:\"dummy\", 2:'hor16_dem', 3:'hor16_rep', 4:'hor16_other'}, inplace=True)\n",
    "hor12.drop(columns=['dummy'], inplace=True)\n",
    "hor16.drop(columns=['dummy'], inplace=True)\n",
    "df2 = df2.merge(hor12, on=\"VTD_num\", how=\"left\")\n",
    "df2 = df2.merge(hor16, on=\"VTD_num\", how=\"left\")"
   ]
  },
  {
   "cell_type": "markdown",
   "metadata": {},
   "source": [
    "### Save to File"
   ]
  },
  {
   "cell_type": "code",
   "execution_count": 20,
   "metadata": {},
   "outputs": [
    {
     "name": "stderr",
     "output_type": "stream",
     "text": [
      "/Users/jerrylin/opt/anaconda3/envs/districting/lib/python3.7/site-packages/ipykernel_launcher.py:1: UserWarning: Column names longer than 10 characters will be truncated when saved to ESRI Shapefile.\n",
      "  \"\"\"Entry point for launching an IPython kernel.\n"
     ]
    }
   ],
   "source": [
    "df2.to_file(full_path('NCabs_VTD'))"
   ]
  },
  {
   "cell_type": "markdown",
   "metadata": {},
   "source": [
    "And voila! You're done. You have a dataset of all 2690 VTDs (after accounting for nested VTDs), with a wide array of election data at your disposal. The ensembles in Mattingly's GitLab are structured as VTD-district pairs; simply merge a districting text file with df2 on the \"VTD_num\" column! "
   ]
  }
 ],
 "metadata": {
  "interpreter": {
   "hash": "c6bc784271d50055e3291325ae4ad775c771bb0150318d62f7c33b553317e26b"
  },
  "kernelspec": {
   "display_name": "Python 3.7.11 64-bit ('districting': conda)",
   "name": "python3"
  },
  "language_info": {
   "codemirror_mode": {
    "name": "ipython",
    "version": 3
   },
   "file_extension": ".py",
   "mimetype": "text/x-python",
   "name": "python",
   "nbconvert_exporter": "python",
   "pygments_lexer": "ipython3",
   "version": "3.7.11"
  }
 },
 "nbformat": 4,
 "nbformat_minor": 2
}
